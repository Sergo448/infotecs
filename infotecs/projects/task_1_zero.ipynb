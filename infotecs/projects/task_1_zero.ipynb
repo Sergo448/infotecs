{
 "cells": [
  {
   "cell_type": "code",
   "execution_count": 1,
   "id": "7ece8cb7",
   "metadata": {},
   "outputs": [],
   "source": [
    "import pandas as pd\n",
    "import seaborn as sns\n",
    "import matplotlib.pyplot as plt\n",
    "import numpy as np\n",
    "%matplotlib inline\n",
    "np.random.seed(42)"
   ]
  },
  {
   "cell_type": "code",
   "execution_count": 2,
   "id": "bee37c17",
   "metadata": {},
   "outputs": [],
   "source": [
    "data = pd.read_excel('../Exel/data.xlsx', index_col=None)  "
   ]
  },
  {
   "cell_type": "code",
   "execution_count": 3,
   "id": "93c75432",
   "metadata": {},
   "outputs": [
    {
     "data": {
      "text/html": [
       "<div>\n",
       "<style scoped>\n",
       "    .dataframe tbody tr th:only-of-type {\n",
       "        vertical-align: middle;\n",
       "    }\n",
       "\n",
       "    .dataframe tbody tr th {\n",
       "        vertical-align: top;\n",
       "    }\n",
       "\n",
       "    .dataframe thead th {\n",
       "        text-align: right;\n",
       "    }\n",
       "</style>\n",
       "<table border=\"1\" class=\"dataframe\">\n",
       "  <thead>\n",
       "    <tr style=\"text-align: right;\">\n",
       "      <th></th>\n",
       "      <th>Measurement_number</th>\n",
       "      <th>network_device</th>\n",
       "      <th>CPU_clock_frequency_GHz</th>\n",
       "      <th>UDP_Throughput_Mb/sec</th>\n",
       "      <th>CPU_utilization_%</th>\n",
       "      <th>CPU_temperature_C</th>\n",
       "    </tr>\n",
       "  </thead>\n",
       "  <tbody>\n",
       "    <tr>\n",
       "      <th>0</th>\n",
       "      <td>1</td>\n",
       "      <td>1</td>\n",
       "      <td>1500</td>\n",
       "      <td>600</td>\n",
       "      <td>50</td>\n",
       "      <td>38</td>\n",
       "    </tr>\n",
       "    <tr>\n",
       "      <th>1</th>\n",
       "      <td>2</td>\n",
       "      <td>1</td>\n",
       "      <td>1500</td>\n",
       "      <td>650</td>\n",
       "      <td>55</td>\n",
       "      <td>45</td>\n",
       "    </tr>\n",
       "    <tr>\n",
       "      <th>2</th>\n",
       "      <td>3</td>\n",
       "      <td>1</td>\n",
       "      <td>1500</td>\n",
       "      <td>700</td>\n",
       "      <td>60</td>\n",
       "      <td>52</td>\n",
       "    </tr>\n",
       "    <tr>\n",
       "      <th>3</th>\n",
       "      <td>4</td>\n",
       "      <td>1</td>\n",
       "      <td>1500</td>\n",
       "      <td>750</td>\n",
       "      <td>65</td>\n",
       "      <td>60</td>\n",
       "    </tr>\n",
       "    <tr>\n",
       "      <th>4</th>\n",
       "      <td>5</td>\n",
       "      <td>1</td>\n",
       "      <td>1500</td>\n",
       "      <td>900</td>\n",
       "      <td>70</td>\n",
       "      <td>67</td>\n",
       "    </tr>\n",
       "    <tr>\n",
       "      <th>5</th>\n",
       "      <td>6</td>\n",
       "      <td>2</td>\n",
       "      <td>2600</td>\n",
       "      <td>750</td>\n",
       "      <td>35</td>\n",
       "      <td>30</td>\n",
       "    </tr>\n",
       "    <tr>\n",
       "      <th>6</th>\n",
       "      <td>7</td>\n",
       "      <td>2</td>\n",
       "      <td>2600</td>\n",
       "      <td>800</td>\n",
       "      <td>40</td>\n",
       "      <td>31</td>\n",
       "    </tr>\n",
       "    <tr>\n",
       "      <th>7</th>\n",
       "      <td>8</td>\n",
       "      <td>2</td>\n",
       "      <td>2600</td>\n",
       "      <td>850</td>\n",
       "      <td>45</td>\n",
       "      <td>32</td>\n",
       "    </tr>\n",
       "    <tr>\n",
       "      <th>8</th>\n",
       "      <td>9</td>\n",
       "      <td>2</td>\n",
       "      <td>2600</td>\n",
       "      <td>900</td>\n",
       "      <td>50</td>\n",
       "      <td>33</td>\n",
       "    </tr>\n",
       "    <tr>\n",
       "      <th>9</th>\n",
       "      <td>10</td>\n",
       "      <td>2</td>\n",
       "      <td>2600</td>\n",
       "      <td>600</td>\n",
       "      <td>30</td>\n",
       "      <td>28</td>\n",
       "    </tr>\n",
       "  </tbody>\n",
       "</table>\n",
       "</div>"
      ],
      "text/plain": [
       "   Measurement_number  network_device  CPU_clock_frequency_GHz  \\\n",
       "0                   1               1                     1500   \n",
       "1                   2               1                     1500   \n",
       "2                   3               1                     1500   \n",
       "3                   4               1                     1500   \n",
       "4                   5               1                     1500   \n",
       "5                   6               2                     2600   \n",
       "6                   7               2                     2600   \n",
       "7                   8               2                     2600   \n",
       "8                   9               2                     2600   \n",
       "9                  10               2                     2600   \n",
       "\n",
       "   UDP_Throughput_Mb/sec  CPU_utilization_%  CPU_temperature_C  \n",
       "0                    600                 50                 38  \n",
       "1                    650                 55                 45  \n",
       "2                    700                 60                 52  \n",
       "3                    750                 65                 60  \n",
       "4                    900                 70                 67  \n",
       "5                    750                 35                 30  \n",
       "6                    800                 40                 31  \n",
       "7                    850                 45                 32  \n",
       "8                    900                 50                 33  \n",
       "9                    600                 30                 28  "
      ]
     },
     "execution_count": 3,
     "metadata": {},
     "output_type": "execute_result"
    }
   ],
   "source": [
    "data"
   ]
  },
  {
   "cell_type": "markdown",
   "id": "08ba21bc",
   "metadata": {},
   "source": [
    "В таблице выше представлены результаты измерений производительности сетевых устройств №1 и №2. Они являются результатом серии экспериментов по проверке метода измерения производительности. Известно, что для всех устройств тестировали 1G интерфейс однородной смесью UDP-трафика"
   ]
  },
  {
   "cell_type": "markdown",
   "id": "01c6f85e",
   "metadata": {},
   "source": [
    "# Task 1"
   ]
  },
  {
   "cell_type": "markdown",
   "id": "7a7a3ab1",
   "metadata": {},
   "source": [
    "1.\tСпрогнозировать значение UDP Throughput для сетевого устройства №3, имеющего параметры:\n",
    "\n",
    "•\tТактовая частота процессора: 2 000 ГГц.\n",
    "\n",
    "•\tУтилизация процессора: 40%.\n",
    "\n",
    "•\tТемпература процессора: 54 °С."
   ]
  },
  {
   "cell_type": "code",
   "execution_count": 4,
   "id": "27d3fd32",
   "metadata": {},
   "outputs": [],
   "source": [
    "from sklearn.ensemble import RandomForestRegressor\n",
    "from sklearn.model_selection import train_test_split"
   ]
  },
  {
   "cell_type": "markdown",
   "id": "ca57190f",
   "metadata": {},
   "source": [
    "Непосредственно загрузим наши данные сформированные в таблице в Exel"
   ]
  },
  {
   "cell_type": "code",
   "execution_count": 5,
   "id": "4352acff",
   "metadata": {},
   "outputs": [
    {
     "data": {
      "text/html": [
       "<div>\n",
       "<style scoped>\n",
       "    .dataframe tbody tr th:only-of-type {\n",
       "        vertical-align: middle;\n",
       "    }\n",
       "\n",
       "    .dataframe tbody tr th {\n",
       "        vertical-align: top;\n",
       "    }\n",
       "\n",
       "    .dataframe thead th {\n",
       "        text-align: right;\n",
       "    }\n",
       "</style>\n",
       "<table border=\"1\" class=\"dataframe\">\n",
       "  <thead>\n",
       "    <tr style=\"text-align: right;\">\n",
       "      <th></th>\n",
       "      <th>Measurement_number</th>\n",
       "      <th>network_device</th>\n",
       "      <th>CPU_clock_frequency_GHz</th>\n",
       "      <th>UDP_Throughput_Mb/sec</th>\n",
       "      <th>CPU_utilization_%</th>\n",
       "      <th>CPU_temperature_C</th>\n",
       "    </tr>\n",
       "  </thead>\n",
       "  <tbody>\n",
       "    <tr>\n",
       "      <th>0</th>\n",
       "      <td>1</td>\n",
       "      <td>1</td>\n",
       "      <td>1500</td>\n",
       "      <td>600</td>\n",
       "      <td>50</td>\n",
       "      <td>38</td>\n",
       "    </tr>\n",
       "    <tr>\n",
       "      <th>1</th>\n",
       "      <td>2</td>\n",
       "      <td>1</td>\n",
       "      <td>1500</td>\n",
       "      <td>650</td>\n",
       "      <td>55</td>\n",
       "      <td>45</td>\n",
       "    </tr>\n",
       "    <tr>\n",
       "      <th>2</th>\n",
       "      <td>3</td>\n",
       "      <td>1</td>\n",
       "      <td>1500</td>\n",
       "      <td>700</td>\n",
       "      <td>60</td>\n",
       "      <td>52</td>\n",
       "    </tr>\n",
       "    <tr>\n",
       "      <th>3</th>\n",
       "      <td>4</td>\n",
       "      <td>1</td>\n",
       "      <td>1500</td>\n",
       "      <td>750</td>\n",
       "      <td>65</td>\n",
       "      <td>60</td>\n",
       "    </tr>\n",
       "    <tr>\n",
       "      <th>4</th>\n",
       "      <td>5</td>\n",
       "      <td>1</td>\n",
       "      <td>1500</td>\n",
       "      <td>900</td>\n",
       "      <td>70</td>\n",
       "      <td>67</td>\n",
       "    </tr>\n",
       "    <tr>\n",
       "      <th>5</th>\n",
       "      <td>6</td>\n",
       "      <td>2</td>\n",
       "      <td>2600</td>\n",
       "      <td>750</td>\n",
       "      <td>35</td>\n",
       "      <td>30</td>\n",
       "    </tr>\n",
       "    <tr>\n",
       "      <th>6</th>\n",
       "      <td>7</td>\n",
       "      <td>2</td>\n",
       "      <td>2600</td>\n",
       "      <td>800</td>\n",
       "      <td>40</td>\n",
       "      <td>31</td>\n",
       "    </tr>\n",
       "    <tr>\n",
       "      <th>7</th>\n",
       "      <td>8</td>\n",
       "      <td>2</td>\n",
       "      <td>2600</td>\n",
       "      <td>850</td>\n",
       "      <td>45</td>\n",
       "      <td>32</td>\n",
       "    </tr>\n",
       "    <tr>\n",
       "      <th>8</th>\n",
       "      <td>9</td>\n",
       "      <td>2</td>\n",
       "      <td>2600</td>\n",
       "      <td>900</td>\n",
       "      <td>50</td>\n",
       "      <td>33</td>\n",
       "    </tr>\n",
       "    <tr>\n",
       "      <th>9</th>\n",
       "      <td>10</td>\n",
       "      <td>2</td>\n",
       "      <td>2600</td>\n",
       "      <td>600</td>\n",
       "      <td>30</td>\n",
       "      <td>28</td>\n",
       "    </tr>\n",
       "  </tbody>\n",
       "</table>\n",
       "</div>"
      ],
      "text/plain": [
       "   Measurement_number  network_device  CPU_clock_frequency_GHz  \\\n",
       "0                   1               1                     1500   \n",
       "1                   2               1                     1500   \n",
       "2                   3               1                     1500   \n",
       "3                   4               1                     1500   \n",
       "4                   5               1                     1500   \n",
       "5                   6               2                     2600   \n",
       "6                   7               2                     2600   \n",
       "7                   8               2                     2600   \n",
       "8                   9               2                     2600   \n",
       "9                  10               2                     2600   \n",
       "\n",
       "   UDP_Throughput_Mb/sec  CPU_utilization_%  CPU_temperature_C  \n",
       "0                    600                 50                 38  \n",
       "1                    650                 55                 45  \n",
       "2                    700                 60                 52  \n",
       "3                    750                 65                 60  \n",
       "4                    900                 70                 67  \n",
       "5                    750                 35                 30  \n",
       "6                    800                 40                 31  \n",
       "7                    850                 45                 32  \n",
       "8                    900                 50                 33  \n",
       "9                    600                 30                 28  "
      ]
     },
     "execution_count": 5,
     "metadata": {},
     "output_type": "execute_result"
    }
   ],
   "source": [
    "data"
   ]
  },
  {
   "cell_type": "markdown",
   "id": "d05444b1",
   "metadata": {},
   "source": [
    "Наша целевая переменная это - значение UDP Throughput для сетевого устройства №3.\n",
    "Далее целевая переменная - trg.\n",
    "Избавляемся от ненужных для создания модели переменных.\n",
    "Это наша учебная сборка.\n",
    "Далее учебная сборка - trn."
   ]
  },
  {
   "cell_type": "code",
   "execution_count": 6,
   "id": "def2f2f6",
   "metadata": {},
   "outputs": [],
   "source": [
    "trg = data['UDP_Throughput_Mb/sec']\n",
    "trn = data.drop(['UDP_Throughput_Mb/sec',\n",
    "                 'Measurement_number'], axis=1)"
   ]
  },
  {
   "cell_type": "code",
   "execution_count": 7,
   "id": "e9729318",
   "metadata": {},
   "outputs": [],
   "source": [
    "from sklearn.ensemble import RandomForestClassifier\n",
    "from sklearn.metrics import recall_score\n",
    "\n",
    "rfc = RandomForestClassifier()\n",
    "rfc.fit(trn.values, trg.values);"
   ]
  },
  {
   "cell_type": "markdown",
   "id": "1d55000f",
   "metadata": {},
   "source": [
    "Обучили нашу модель."
   ]
  },
  {
   "cell_type": "code",
   "execution_count": 8,
   "id": "34046c7b",
   "metadata": {},
   "outputs": [],
   "source": [
    "prediction = rfc.predict([[3, 2000, 40, 54]]);"
   ]
  },
  {
   "cell_type": "code",
   "execution_count": 9,
   "id": "1118754a",
   "metadata": {},
   "outputs": [
    {
     "name": "stdout",
     "output_type": "stream",
     "text": [
      "[800]\n"
     ]
    }
   ],
   "source": [
    "print(prediction)"
   ]
  },
  {
   "cell_type": "markdown",
   "id": "4878e995",
   "metadata": {},
   "source": [
    "Получили предсказание."
   ]
  },
  {
   "cell_type": "markdown",
   "id": "d9f23693",
   "metadata": {},
   "source": [
    "# Спрогнозированное значение UDP Throughput для сетевого устройства №3 - 800 Мбит/с "
   ]
  },
  {
   "cell_type": "markdown",
   "id": "680e99fd",
   "metadata": {},
   "source": [
    "2. Спрогнозировать значения утилизации ЦП и температуры ЦП сетевого устройства №4 с тактовой частотой 1 700 ГГц для значений UDP Throughput из таблицы 2."
   ]
  },
  {
   "cell_type": "code",
   "execution_count": 10,
   "id": "40814bdb",
   "metadata": {},
   "outputs": [],
   "source": [
    "data2 = pd.read_excel('../Exel/data.xlsx', index_col=None)"
   ]
  },
  {
   "cell_type": "code",
   "execution_count": 11,
   "id": "46c3efad",
   "metadata": {},
   "outputs": [],
   "source": [
    "trg2 = data2['CPU_utilization_%']\n",
    "trn2 = data2.drop(['CPU_utilization_%', 'Measurement_number', 'CPU_temperature_C'], axis=1)\n",
    "\n",
    "trg3 = data2['CPU_temperature_C']\n",
    "trn3 = data2.drop(['CPU_temperature_C', 'Measurement_number', 'CPU_utilization_%'], axis=1)"
   ]
  },
  {
   "cell_type": "code",
   "execution_count": 12,
   "id": "4ed29091",
   "metadata": {},
   "outputs": [],
   "source": [
    "from sklearn.linear_model import LinearRegression\n",
    "rfc = LinearRegression()\n",
    "arr = np.array([50, 100, 150, 200, 250, 300, 350, 400, 450, 500])\n",
    "rfc.fit(trn2.values, trg2.values)\n",
    "\n",
    "values_2_0 = []\n",
    "for val in arr:\n",
    "    prediction = rfc.predict([[3, 1700, val]])\n",
    "    values_2_0.append(prediction)"
   ]
  },
  {
   "cell_type": "code",
   "execution_count": 13,
   "id": "f9dc6ab1",
   "metadata": {},
   "outputs": [
    {
     "data": {
      "text/plain": [
       "array([11.39790567, 14.69979247, 18.00167926, 21.30356605, 24.60545284,\n",
       "       27.90733964, 31.20922643, 34.51111322, 37.81300001, 41.11488681])"
      ]
     },
     "execution_count": 13,
     "metadata": {},
     "output_type": "execute_result"
    }
   ],
   "source": [
    "np.concatenate((values_2_0[0],\n",
    "                values_2_0[1],\n",
    "                values_2_0[2],\n",
    "                values_2_0[3],\n",
    "                values_2_0[4],\n",
    "                values_2_0[5],\n",
    "                values_2_0[6],\n",
    "                values_2_0[7],\n",
    "                values_2_0[8],\n",
    "                values_2_0[9],), axis=0)"
   ]
  },
  {
   "cell_type": "code",
   "execution_count": 14,
   "id": "b006b9ec",
   "metadata": {},
   "outputs": [],
   "source": [
    "from sklearn.linear_model import LinearRegression\n",
    "rfc = LinearRegression()\n",
    "arr = np.array([50, 100, 150, 200, 250, 300, 350, 400, 450, 500])\n",
    "rfc.fit(trn3.values, trg3.values)\n",
    "\n",
    "values_2_1 = []\n",
    "for val in arr:\n",
    "    prediction = rfc.predict([[3, 1700, val]])\n",
    "    values_2_1.append(prediction)"
   ]
  },
  {
   "cell_type": "code",
   "execution_count": 15,
   "id": "03d8a01f",
   "metadata": {},
   "outputs": [
    {
     "data": {
      "text/plain": [
       "array([ 9.99490241, 12.82037411, 15.64584581, 18.47131751, 21.29678921,\n",
       "       24.1222609 , 26.9477326 , 29.7732043 , 32.598676  , 35.4241477 ])"
      ]
     },
     "execution_count": 15,
     "metadata": {},
     "output_type": "execute_result"
    }
   ],
   "source": [
    "np.concatenate((values_2_1[0],\n",
    "                values_2_1[1],\n",
    "                values_2_1[2],\n",
    "                values_2_1[3],\n",
    "                values_2_1[4],\n",
    "                values_2_1[5],\n",
    "                values_2_1[6],\n",
    "                values_2_1[7],\n",
    "                values_2_1[8],\n",
    "                values_2_1[9],), axis=0)"
   ]
  },
  {
   "cell_type": "code",
   "execution_count": 16,
   "id": "a94d3f70",
   "metadata": {},
   "outputs": [],
   "source": [
    "data = {\n",
    "    'CPU_utilization_%': [values_2_0[0], values_2_0[1], values_2_0[2], values_2_0[3], values_2_0[4],\n",
    "                          values_2_0[5], values_2_0[6], values_2_0[7], values_2_0[8], values_2_0[9]],\n",
    "    'CPU_temperature_C': [values_2_1[0], values_2_1[1], values_2_1[2], values_2_1[3], values_2_1[4],\n",
    "                          values_2_1[5], values_2_1[6], values_2_1[7], values_2_1[8], values_2_1[9]],\n",
    "    'UDP_Throughput_Mb/sec': np.array([50, 100, 150, 200, 250, 300, 350, 400, 450, 500]),\n",
    "    'Measurement_number': np.arange(10)\n",
    "}"
   ]
  },
  {
   "cell_type": "code",
   "execution_count": 17,
   "id": "b9909145",
   "metadata": {},
   "outputs": [],
   "source": [
    "df = pd.DataFrame(data=data)"
   ]
  },
  {
   "cell_type": "markdown",
   "id": "00e0853e",
   "metadata": {},
   "source": [
    "# Получаем ответ на вторую часть первого задания"
   ]
  },
  {
   "cell_type": "code",
   "execution_count": 18,
   "id": "a494cda0",
   "metadata": {},
   "outputs": [
    {
     "data": {
      "text/html": [
       "<div>\n",
       "<style scoped>\n",
       "    .dataframe tbody tr th:only-of-type {\n",
       "        vertical-align: middle;\n",
       "    }\n",
       "\n",
       "    .dataframe tbody tr th {\n",
       "        vertical-align: top;\n",
       "    }\n",
       "\n",
       "    .dataframe thead th {\n",
       "        text-align: right;\n",
       "    }\n",
       "</style>\n",
       "<table border=\"1\" class=\"dataframe\">\n",
       "  <thead>\n",
       "    <tr style=\"text-align: right;\">\n",
       "      <th></th>\n",
       "      <th>Measurement_number</th>\n",
       "      <th>UDP_Throughput_Mb/sec</th>\n",
       "      <th>CPU_utilization_%</th>\n",
       "      <th>CPU_temperature_C</th>\n",
       "    </tr>\n",
       "  </thead>\n",
       "  <tbody>\n",
       "    <tr>\n",
       "      <th>0</th>\n",
       "      <td>0</td>\n",
       "      <td>50</td>\n",
       "      <td>11</td>\n",
       "      <td>9</td>\n",
       "    </tr>\n",
       "    <tr>\n",
       "      <th>1</th>\n",
       "      <td>1</td>\n",
       "      <td>100</td>\n",
       "      <td>14</td>\n",
       "      <td>12</td>\n",
       "    </tr>\n",
       "    <tr>\n",
       "      <th>2</th>\n",
       "      <td>2</td>\n",
       "      <td>150</td>\n",
       "      <td>18</td>\n",
       "      <td>15</td>\n",
       "    </tr>\n",
       "    <tr>\n",
       "      <th>3</th>\n",
       "      <td>3</td>\n",
       "      <td>200</td>\n",
       "      <td>21</td>\n",
       "      <td>18</td>\n",
       "    </tr>\n",
       "    <tr>\n",
       "      <th>4</th>\n",
       "      <td>4</td>\n",
       "      <td>250</td>\n",
       "      <td>24</td>\n",
       "      <td>21</td>\n",
       "    </tr>\n",
       "    <tr>\n",
       "      <th>5</th>\n",
       "      <td>5</td>\n",
       "      <td>300</td>\n",
       "      <td>27</td>\n",
       "      <td>24</td>\n",
       "    </tr>\n",
       "    <tr>\n",
       "      <th>6</th>\n",
       "      <td>6</td>\n",
       "      <td>350</td>\n",
       "      <td>31</td>\n",
       "      <td>26</td>\n",
       "    </tr>\n",
       "    <tr>\n",
       "      <th>7</th>\n",
       "      <td>7</td>\n",
       "      <td>400</td>\n",
       "      <td>34</td>\n",
       "      <td>29</td>\n",
       "    </tr>\n",
       "    <tr>\n",
       "      <th>8</th>\n",
       "      <td>8</td>\n",
       "      <td>450</td>\n",
       "      <td>37</td>\n",
       "      <td>32</td>\n",
       "    </tr>\n",
       "    <tr>\n",
       "      <th>9</th>\n",
       "      <td>9</td>\n",
       "      <td>500</td>\n",
       "      <td>41</td>\n",
       "      <td>35</td>\n",
       "    </tr>\n",
       "  </tbody>\n",
       "</table>\n",
       "</div>"
      ],
      "text/plain": [
       "   Measurement_number  UDP_Throughput_Mb/sec  CPU_utilization_%  \\\n",
       "0                   0                     50                 11   \n",
       "1                   1                    100                 14   \n",
       "2                   2                    150                 18   \n",
       "3                   3                    200                 21   \n",
       "4                   4                    250                 24   \n",
       "5                   5                    300                 27   \n",
       "6                   6                    350                 31   \n",
       "7                   7                    400                 34   \n",
       "8                   8                    450                 37   \n",
       "9                   9                    500                 41   \n",
       "\n",
       "   CPU_temperature_C  \n",
       "0                  9  \n",
       "1                 12  \n",
       "2                 15  \n",
       "3                 18  \n",
       "4                 21  \n",
       "5                 24  \n",
       "6                 26  \n",
       "7                 29  \n",
       "8                 32  \n",
       "9                 35  "
      ]
     },
     "execution_count": 18,
     "metadata": {},
     "output_type": "execute_result"
    }
   ],
   "source": [
    "df[['Measurement_number', 'UDP_Throughput_Mb/sec', 'CPU_utilization_%', 'CPU_temperature_C']].astype(int)"
   ]
  },
  {
   "cell_type": "code",
   "execution_count": null,
   "id": "13d47899",
   "metadata": {},
   "outputs": [],
   "source": []
  }
 ],
 "metadata": {
  "kernelspec": {
   "display_name": "Python 3 (ipykernel)",
   "language": "python",
   "name": "python3"
  },
  "language_info": {
   "codemirror_mode": {
    "name": "ipython",
    "version": 3
   },
   "file_extension": ".py",
   "mimetype": "text/x-python",
   "name": "python",
   "nbconvert_exporter": "python",
   "pygments_lexer": "ipython3",
   "version": "3.8.0"
  }
 },
 "nbformat": 4,
 "nbformat_minor": 5
}
